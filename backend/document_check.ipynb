{
 "cells": [
  {
   "cell_type": "code",
   "execution_count": 21,
   "id": "faf0dd8f",
   "metadata": {},
   "outputs": [
    {
     "name": "stderr",
     "output_type": "stream",
     "text": [
      "Device set to use cuda:0\n",
      "Token indices sequence length is longer than the specified maximum sequence length for this model (530 > 512). Running this sequence through the model will result in indexing errors\n"
     ]
    },
    {
     "name": "stdout",
     "output_type": "stream",
     "text": [
      "{'company name': 'AfriSwitch Technologies Ltd', 'focus': '1. Company Registration: AfriSwitch Technologies Ltd 2. Shareholding: o 60% Tech Partners Ltd 3. Technical Proof: o Patent-pending switching algorithm o MTN USSD test environment', 'services': '1. Company Registration: AfriSwitch Technologies Ltd 2. Shareholding: o 60% Tech Partners Ltd 3. Technical Proof: o Patent-pending switching algorithm o MTN USSD test environment'}\n"
     ]
    }
   ],
   "source": [
    "from transformers import pipeline\n",
    "import fitz  # PyMuPDF\n",
    "\n",
    "# 1) Load a FLAN-T5 text2text pipeline\n",
    "#    (you can also use `AutoTokenizer` + `AutoModelForSeq2SeqLM` if you prefer)\n",
    "extractor = pipeline(\n",
    "    \"text2text-generation\",\n",
    "    model=\"google/flan-t5-small\",\n",
    "    tokenizer=\"google/flan-t5-small\"\n",
    ")\n",
    "\n",
    "def extract_text_from_pdf(pdf_path):\n",
    "    doc = fitz.open(pdf_path)\n",
    "    return \"\\n\\n\".join(page.get_text() for page in doc)\n",
    "\n",
    "def extract_info_via_t5(text: str):\n",
    "    # define the slots you want to extract\n",
    "    questions = {\n",
    "        \"company name\":      \"Extract the company name\",\n",
    "        \"focus\":             \"Extract the company's main focus\",\n",
    "        \"services\":          \"Extract the company's core services\"\n",
    "    }\n",
    "    results = {}\n",
    "    for key, instruction in questions.items():\n",
    "        prompt = (\n",
    "            f\"{instruction} from the following text:\\n\\n{text}\\n\\n\"\n",
    "            \"Answer concisely.\"\n",
    "        )\n",
    "        out = extractor(\n",
    "            prompt,\n",
    "            max_new_tokens=64,\n",
    "            do_sample=False\n",
    "        )\n",
    "        # the pipeline returns a list of dicts; grab the generated text\n",
    "        results[key] = out[0][\"generated_text\"].strip()\n",
    "    return results\n",
    "\n",
    "\n",
    "pdf_text = extract_text_from_pdf(\"./E-servises .pdf\")\n",
    "info = extract_info_via_t5(pdf_text)\n",
    "print(info)\n",
    "    # → e.g. {'company name': 'Acme Corp.', 'focus': 'manufacturing widgets', ...}\n"
   ]
  },
  {
   "cell_type": "code",
   "execution_count": null,
   "id": "f77cb8aa",
   "metadata": {},
   "outputs": [
    {
     "name": "stdout",
     "output_type": "stream",
     "text": [
      "\n",
      "\n",
      "\n",
      "\n",
      "\n"
     ]
    }
   ],
   "source": []
  },
  {
   "cell_type": "code",
   "execution_count": null,
   "id": "79ec3c46",
   "metadata": {},
   "outputs": [],
   "source": []
  }
 ],
 "metadata": {
  "kernelspec": {
   "display_name": "pytorch-idl",
   "language": "python",
   "name": "python3"
  },
  "language_info": {
   "codemirror_mode": {
    "name": "ipython",
    "version": 3
   },
   "file_extension": ".py",
   "mimetype": "text/x-python",
   "name": "python",
   "nbconvert_exporter": "python",
   "pygments_lexer": "ipython3",
   "version": "3.9.18"
  }
 },
 "nbformat": 4,
 "nbformat_minor": 5
}
